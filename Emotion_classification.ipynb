{
 "cells": [
  {
   "cell_type": "markdown",
   "id": "6837f8bd",
   "metadata": {},
   "source": [
    "# Importing Packages"
   ]
  },
  {
   "cell_type": "code",
   "execution_count": 1,
   "id": "ae60079d",
   "metadata": {},
   "outputs": [
    {
     "name": "stderr",
     "output_type": "stream",
     "text": [
      "[nltk_data] Downloading package stopwords to C:\\Users\\Munish\n",
      "[nltk_data]     Lohani\\AppData\\Roaming\\nltk_data...\n",
      "[nltk_data]   Package stopwords is already up-to-date!\n"
     ]
    }
   ],
   "source": [
    "import numpy as np\n",
    "import pandas as pd\n",
    "import re,string\n",
    "import matplotlib.pyplot as plt\n",
    "from nltk.corpus import stopwords\n",
    "from nltk.stem import PorterStemmer\n",
    "from sklearn.feature_extraction.text import TfidfVectorizer\n",
    "from sklearn.pipeline import Pipeline\n",
    "from sklearn.metrics import classification_report, confusion_matrix\n",
    "from sklearn.model_selection import train_test_split\n",
    "from sklearn.feature_selection import SelectKBest, chi2\n",
    "# from sklearn.ensemble import RandomForestClassifier\n",
    "import pickle\n",
    "import nltk\n",
    "nltk.download('stopwords')\n",
    "%matplotlib inline"
   ]
  },
  {
   "cell_type": "code",
   "execution_count": 2,
   "id": "6c36bfa5",
   "metadata": {},
   "outputs": [
    {
     "name": "stderr",
     "output_type": "stream",
     "text": [
      "[nltk_data] Downloading package stopwords to C:\\Users\\Munish\n",
      "[nltk_data]     Lohani\\AppData\\Roaming\\nltk_data...\n",
      "[nltk_data]   Package stopwords is already up-to-date!\n"
     ]
    },
    {
     "data": {
      "text/plain": [
       "True"
      ]
     },
     "execution_count": 2,
     "metadata": {},
     "output_type": "execute_result"
    }
   ],
   "source": [
    "nltk.download('stopwords')"
   ]
  },
  {
   "cell_type": "markdown",
   "id": "536c9919",
   "metadata": {},
   "source": [
    "## Opening dataset"
   ]
  },
  {
   "cell_type": "code",
   "execution_count": 3,
   "id": "f329bf89",
   "metadata": {},
   "outputs": [
    {
     "data": {
      "text/html": [
       "<div>\n",
       "<style scoped>\n",
       "    .dataframe tbody tr th:only-of-type {\n",
       "        vertical-align: middle;\n",
       "    }\n",
       "\n",
       "    .dataframe tbody tr th {\n",
       "        vertical-align: top;\n",
       "    }\n",
       "\n",
       "    .dataframe thead th {\n",
       "        text-align: right;\n",
       "    }\n",
       "</style>\n",
       "<table border=\"1\" class=\"dataframe\">\n",
       "  <thead>\n",
       "    <tr style=\"text-align: right;\">\n",
       "      <th></th>\n",
       "      <th>Comment</th>\n",
       "      <th>Emotion</th>\n",
       "    </tr>\n",
       "  </thead>\n",
       "  <tbody>\n",
       "    <tr>\n",
       "      <th>0</th>\n",
       "      <td>i seriously hate one subject to death but now ...</td>\n",
       "      <td>fear</td>\n",
       "    </tr>\n",
       "    <tr>\n",
       "      <th>1</th>\n",
       "      <td>im so full of life i feel appalled</td>\n",
       "      <td>anger</td>\n",
       "    </tr>\n",
       "    <tr>\n",
       "      <th>2</th>\n",
       "      <td>i sit here to write i start to dig out my feel...</td>\n",
       "      <td>fear</td>\n",
       "    </tr>\n",
       "    <tr>\n",
       "      <th>3</th>\n",
       "      <td>ive been really angry with r and i feel like a...</td>\n",
       "      <td>joy</td>\n",
       "    </tr>\n",
       "    <tr>\n",
       "      <th>4</th>\n",
       "      <td>i feel suspicious if there is no one outside l...</td>\n",
       "      <td>fear</td>\n",
       "    </tr>\n",
       "    <tr>\n",
       "      <th>5</th>\n",
       "      <td>i feel jealous becasue i wanted that kind of l...</td>\n",
       "      <td>anger</td>\n",
       "    </tr>\n",
       "    <tr>\n",
       "      <th>6</th>\n",
       "      <td>when a friend of mine keeps telling me morbid ...</td>\n",
       "      <td>anger</td>\n",
       "    </tr>\n",
       "  </tbody>\n",
       "</table>\n",
       "</div>"
      ],
      "text/plain": [
       "                                             Comment Emotion\n",
       "0  i seriously hate one subject to death but now ...    fear\n",
       "1                 im so full of life i feel appalled   anger\n",
       "2  i sit here to write i start to dig out my feel...    fear\n",
       "3  ive been really angry with r and i feel like a...     joy\n",
       "4  i feel suspicious if there is no one outside l...    fear\n",
       "5  i feel jealous becasue i wanted that kind of l...   anger\n",
       "6  when a friend of mine keeps telling me morbid ...   anger"
      ]
     },
     "execution_count": 3,
     "metadata": {},
     "output_type": "execute_result"
    }
   ],
   "source": [
    "df=pd.read_csv('Emotion_classify_Data.csv')\n",
    "df.head(7)"
   ]
  },
  {
   "cell_type": "code",
   "execution_count": 4,
   "id": "ee81a18d",
   "metadata": {},
   "outputs": [
    {
     "name": "stdout",
     "output_type": "stream",
     "text": [
      "<class 'pandas.core.frame.DataFrame'>\n",
      "RangeIndex: 5937 entries, 0 to 5936\n",
      "Data columns (total 2 columns):\n",
      " #   Column   Non-Null Count  Dtype \n",
      "---  ------   --------------  ----- \n",
      " 0   Comment  5937 non-null   object\n",
      " 1   Emotion  5937 non-null   object\n",
      "dtypes: object(2)\n",
      "memory usage: 92.9+ KB\n"
     ]
    }
   ],
   "source": [
    "df.info()"
   ]
  },
  {
   "cell_type": "code",
   "execution_count": 5,
   "id": "2a3255dc",
   "metadata": {},
   "outputs": [],
   "source": [
    "#EDA"
   ]
  },
  {
   "cell_type": "code",
   "execution_count": 6,
   "id": "76ec80c2",
   "metadata": {},
   "outputs": [
    {
     "data": {
      "text/html": [
       "<div>\n",
       "<style scoped>\n",
       "    .dataframe tbody tr th:only-of-type {\n",
       "        vertical-align: middle;\n",
       "    }\n",
       "\n",
       "    .dataframe tbody tr th {\n",
       "        vertical-align: top;\n",
       "    }\n",
       "\n",
       "    .dataframe thead th {\n",
       "        text-align: right;\n",
       "    }\n",
       "</style>\n",
       "<table border=\"1\" class=\"dataframe\">\n",
       "  <thead>\n",
       "    <tr style=\"text-align: right;\">\n",
       "      <th></th>\n",
       "      <th>Comment</th>\n",
       "    </tr>\n",
       "    <tr>\n",
       "      <th>Emotion</th>\n",
       "      <th></th>\n",
       "    </tr>\n",
       "  </thead>\n",
       "  <tbody>\n",
       "    <tr>\n",
       "      <th>anger</th>\n",
       "      <td>2000</td>\n",
       "    </tr>\n",
       "    <tr>\n",
       "      <th>fear</th>\n",
       "      <td>1937</td>\n",
       "    </tr>\n",
       "    <tr>\n",
       "      <th>joy</th>\n",
       "      <td>2000</td>\n",
       "    </tr>\n",
       "  </tbody>\n",
       "</table>\n",
       "</div>"
      ],
      "text/plain": [
       "         Comment\n",
       "Emotion         \n",
       "anger       2000\n",
       "fear        1937\n",
       "joy         2000"
      ]
     },
     "execution_count": 6,
     "metadata": {},
     "output_type": "execute_result"
    }
   ],
   "source": [
    "df.groupby('Emotion').count()"
   ]
  },
  {
   "cell_type": "code",
   "execution_count": 7,
   "id": "13bba933",
   "metadata": {},
   "outputs": [
    {
     "data": {
      "text/html": [
       "<div>\n",
       "<style scoped>\n",
       "    .dataframe tbody tr th:only-of-type {\n",
       "        vertical-align: middle;\n",
       "    }\n",
       "\n",
       "    .dataframe tbody tr th {\n",
       "        vertical-align: top;\n",
       "    }\n",
       "\n",
       "    .dataframe thead th {\n",
       "        text-align: right;\n",
       "    }\n",
       "</style>\n",
       "<table border=\"1\" class=\"dataframe\">\n",
       "  <thead>\n",
       "    <tr style=\"text-align: right;\">\n",
       "      <th></th>\n",
       "      <th>Comment</th>\n",
       "      <th>Emotion</th>\n",
       "      <th>Length</th>\n",
       "    </tr>\n",
       "  </thead>\n",
       "  <tbody>\n",
       "    <tr>\n",
       "      <th>0</th>\n",
       "      <td>i seriously hate one subject to death but now ...</td>\n",
       "      <td>fear</td>\n",
       "      <td>4</td>\n",
       "    </tr>\n",
       "    <tr>\n",
       "      <th>1</th>\n",
       "      <td>im so full of life i feel appalled</td>\n",
       "      <td>anger</td>\n",
       "      <td>5</td>\n",
       "    </tr>\n",
       "    <tr>\n",
       "      <th>2</th>\n",
       "      <td>i sit here to write i start to dig out my feel...</td>\n",
       "      <td>fear</td>\n",
       "      <td>4</td>\n",
       "    </tr>\n",
       "    <tr>\n",
       "      <th>3</th>\n",
       "      <td>ive been really angry with r and i feel like a...</td>\n",
       "      <td>joy</td>\n",
       "      <td>3</td>\n",
       "    </tr>\n",
       "    <tr>\n",
       "      <th>4</th>\n",
       "      <td>i feel suspicious if there is no one outside l...</td>\n",
       "      <td>fear</td>\n",
       "      <td>4</td>\n",
       "    </tr>\n",
       "    <tr>\n",
       "      <th>...</th>\n",
       "      <td>...</td>\n",
       "      <td>...</td>\n",
       "      <td>...</td>\n",
       "    </tr>\n",
       "    <tr>\n",
       "      <th>5932</th>\n",
       "      <td>i begun to feel distressed for you</td>\n",
       "      <td>fear</td>\n",
       "      <td>4</td>\n",
       "    </tr>\n",
       "    <tr>\n",
       "      <th>5933</th>\n",
       "      <td>i left feeling annoyed and angry thinking that...</td>\n",
       "      <td>anger</td>\n",
       "      <td>5</td>\n",
       "    </tr>\n",
       "    <tr>\n",
       "      <th>5934</th>\n",
       "      <td>i were to ever get married i d have everything...</td>\n",
       "      <td>joy</td>\n",
       "      <td>3</td>\n",
       "    </tr>\n",
       "    <tr>\n",
       "      <th>5935</th>\n",
       "      <td>i feel reluctant in applying there because i w...</td>\n",
       "      <td>fear</td>\n",
       "      <td>4</td>\n",
       "    </tr>\n",
       "    <tr>\n",
       "      <th>5936</th>\n",
       "      <td>i just wanted to apologize to you because i fe...</td>\n",
       "      <td>anger</td>\n",
       "      <td>5</td>\n",
       "    </tr>\n",
       "  </tbody>\n",
       "</table>\n",
       "<p>5937 rows × 3 columns</p>\n",
       "</div>"
      ],
      "text/plain": [
       "                                                Comment Emotion  Length\n",
       "0     i seriously hate one subject to death but now ...    fear       4\n",
       "1                    im so full of life i feel appalled   anger       5\n",
       "2     i sit here to write i start to dig out my feel...    fear       4\n",
       "3     ive been really angry with r and i feel like a...     joy       3\n",
       "4     i feel suspicious if there is no one outside l...    fear       4\n",
       "...                                                 ...     ...     ...\n",
       "5932                 i begun to feel distressed for you    fear       4\n",
       "5933  i left feeling annoyed and angry thinking that...   anger       5\n",
       "5934  i were to ever get married i d have everything...     joy       3\n",
       "5935  i feel reluctant in applying there because i w...    fear       4\n",
       "5936  i just wanted to apologize to you because i fe...   anger       5\n",
       "\n",
       "[5937 rows x 3 columns]"
      ]
     },
     "execution_count": 7,
     "metadata": {},
     "output_type": "execute_result"
    }
   ],
   "source": [
    "df['Length']=(df['Emotion']).apply(len)\n",
    "df"
   ]
  },
  {
   "cell_type": "code",
   "execution_count": 8,
   "id": "cd4dafed",
   "metadata": {},
   "outputs": [
    {
     "data": {
      "text/html": [
       "<div>\n",
       "<style scoped>\n",
       "    .dataframe tbody tr th:only-of-type {\n",
       "        vertical-align: middle;\n",
       "    }\n",
       "\n",
       "    .dataframe tbody tr th {\n",
       "        vertical-align: top;\n",
       "    }\n",
       "\n",
       "    .dataframe thead th {\n",
       "        text-align: right;\n",
       "    }\n",
       "</style>\n",
       "<table border=\"1\" class=\"dataframe\">\n",
       "  <thead>\n",
       "    <tr style=\"text-align: right;\">\n",
       "      <th></th>\n",
       "      <th>Length</th>\n",
       "    </tr>\n",
       "  </thead>\n",
       "  <tbody>\n",
       "    <tr>\n",
       "      <th>count</th>\n",
       "      <td>5937.000000</td>\n",
       "    </tr>\n",
       "    <tr>\n",
       "      <th>mean</th>\n",
       "      <td>4.000000</td>\n",
       "    </tr>\n",
       "    <tr>\n",
       "      <th>std</th>\n",
       "      <td>0.820886</td>\n",
       "    </tr>\n",
       "    <tr>\n",
       "      <th>min</th>\n",
       "      <td>3.000000</td>\n",
       "    </tr>\n",
       "    <tr>\n",
       "      <th>25%</th>\n",
       "      <td>3.000000</td>\n",
       "    </tr>\n",
       "    <tr>\n",
       "      <th>50%</th>\n",
       "      <td>4.000000</td>\n",
       "    </tr>\n",
       "    <tr>\n",
       "      <th>75%</th>\n",
       "      <td>5.000000</td>\n",
       "    </tr>\n",
       "    <tr>\n",
       "      <th>max</th>\n",
       "      <td>5.000000</td>\n",
       "    </tr>\n",
       "  </tbody>\n",
       "</table>\n",
       "</div>"
      ],
      "text/plain": [
       "            Length\n",
       "count  5937.000000\n",
       "mean      4.000000\n",
       "std       0.820886\n",
       "min       3.000000\n",
       "25%       3.000000\n",
       "50%       4.000000\n",
       "75%       5.000000\n",
       "max       5.000000"
      ]
     },
     "execution_count": 8,
     "metadata": {},
     "output_type": "execute_result"
    }
   ],
   "source": [
    "df.describe()"
   ]
  },
  {
   "cell_type": "code",
   "execution_count": 9,
   "id": "733a701c",
   "metadata": {},
   "outputs": [],
   "source": [
    "#Text Cleaning\n"
   ]
  },
  {
   "cell_type": "markdown",
   "id": "69a953f1",
   "metadata": {},
   "source": [
    "## Classification"
   ]
  },
  {
   "cell_type": "code",
   "execution_count": 10,
   "id": "beaa0070",
   "metadata": {},
   "outputs": [],
   "source": [
    "import string\n",
    "from nltk.corpus import stopwords\n"
   ]
  },
  {
   "cell_type": "markdown",
   "id": "bdfa0f8d",
   "metadata": {},
   "source": [
    "# Data Cleaning using regex, stopwords,stemmer"
   ]
  },
  {
   "cell_type": "code",
   "execution_count": 11,
   "id": "1fd7c870",
   "metadata": {},
   "outputs": [
    {
     "data": {
      "text/html": [
       "<div>\n",
       "<style scoped>\n",
       "    .dataframe tbody tr th:only-of-type {\n",
       "        vertical-align: middle;\n",
       "    }\n",
       "\n",
       "    .dataframe tbody tr th {\n",
       "        vertical-align: top;\n",
       "    }\n",
       "\n",
       "    .dataframe thead th {\n",
       "        text-align: right;\n",
       "    }\n",
       "</style>\n",
       "<table border=\"1\" class=\"dataframe\">\n",
       "  <thead>\n",
       "    <tr style=\"text-align: right;\">\n",
       "      <th></th>\n",
       "      <th>Comment</th>\n",
       "      <th>Emotion</th>\n",
       "      <th>Length</th>\n",
       "      <th>cleaned</th>\n",
       "    </tr>\n",
       "  </thead>\n",
       "  <tbody>\n",
       "    <tr>\n",
       "      <th>0</th>\n",
       "      <td>i seriously hate one subject to death but now ...</td>\n",
       "      <td>fear</td>\n",
       "      <td>4</td>\n",
       "      <td>i serious hate one subject to death but now i ...</td>\n",
       "    </tr>\n",
       "    <tr>\n",
       "      <th>1</th>\n",
       "      <td>im so full of life i feel appalled</td>\n",
       "      <td>anger</td>\n",
       "      <td>5</td>\n",
       "      <td>im so full of life i feel appal</td>\n",
       "    </tr>\n",
       "    <tr>\n",
       "      <th>2</th>\n",
       "      <td>i sit here to write i start to dig out my feel...</td>\n",
       "      <td>fear</td>\n",
       "      <td>4</td>\n",
       "      <td>i sit here to write i start to dig out my feel...</td>\n",
       "    </tr>\n",
       "    <tr>\n",
       "      <th>3</th>\n",
       "      <td>ive been really angry with r and i feel like a...</td>\n",
       "      <td>joy</td>\n",
       "      <td>3</td>\n",
       "      <td>ive been realli angri with r and i feel like a...</td>\n",
       "    </tr>\n",
       "    <tr>\n",
       "      <th>4</th>\n",
       "      <td>i feel suspicious if there is no one outside l...</td>\n",
       "      <td>fear</td>\n",
       "      <td>4</td>\n",
       "      <td>i feel suspici if there is no one outsid like ...</td>\n",
       "    </tr>\n",
       "    <tr>\n",
       "      <th>...</th>\n",
       "      <td>...</td>\n",
       "      <td>...</td>\n",
       "      <td>...</td>\n",
       "      <td>...</td>\n",
       "    </tr>\n",
       "    <tr>\n",
       "      <th>5932</th>\n",
       "      <td>i begun to feel distressed for you</td>\n",
       "      <td>fear</td>\n",
       "      <td>4</td>\n",
       "      <td>i begun to feel distress for you</td>\n",
       "    </tr>\n",
       "    <tr>\n",
       "      <th>5933</th>\n",
       "      <td>i left feeling annoyed and angry thinking that...</td>\n",
       "      <td>anger</td>\n",
       "      <td>5</td>\n",
       "      <td>i left feel annoy and angri think that i wa th...</td>\n",
       "    </tr>\n",
       "    <tr>\n",
       "      <th>5934</th>\n",
       "      <td>i were to ever get married i d have everything...</td>\n",
       "      <td>joy</td>\n",
       "      <td>3</td>\n",
       "      <td>i were to ever get marri i d have everyth read...</td>\n",
       "    </tr>\n",
       "    <tr>\n",
       "      <th>5935</th>\n",
       "      <td>i feel reluctant in applying there because i w...</td>\n",
       "      <td>fear</td>\n",
       "      <td>4</td>\n",
       "      <td>i feel reluct in appli there becaus i want to ...</td>\n",
       "    </tr>\n",
       "    <tr>\n",
       "      <th>5936</th>\n",
       "      <td>i just wanted to apologize to you because i fe...</td>\n",
       "      <td>anger</td>\n",
       "      <td>5</td>\n",
       "      <td>i just want to apolog to you becaus i feel lik...</td>\n",
       "    </tr>\n",
       "  </tbody>\n",
       "</table>\n",
       "<p>5937 rows × 4 columns</p>\n",
       "</div>"
      ],
      "text/plain": [
       "                                                Comment Emotion  Length  \\\n",
       "0     i seriously hate one subject to death but now ...    fear       4   \n",
       "1                    im so full of life i feel appalled   anger       5   \n",
       "2     i sit here to write i start to dig out my feel...    fear       4   \n",
       "3     ive been really angry with r and i feel like a...     joy       3   \n",
       "4     i feel suspicious if there is no one outside l...    fear       4   \n",
       "...                                                 ...     ...     ...   \n",
       "5932                 i begun to feel distressed for you    fear       4   \n",
       "5933  i left feeling annoyed and angry thinking that...   anger       5   \n",
       "5934  i were to ever get married i d have everything...     joy       3   \n",
       "5935  i feel reluctant in applying there because i w...    fear       4   \n",
       "5936  i just wanted to apologize to you because i fe...   anger       5   \n",
       "\n",
       "                                                cleaned  \n",
       "0     i serious hate one subject to death but now i ...  \n",
       "1                       im so full of life i feel appal  \n",
       "2     i sit here to write i start to dig out my feel...  \n",
       "3     ive been realli angri with r and i feel like a...  \n",
       "4     i feel suspici if there is no one outsid like ...  \n",
       "...                                                 ...  \n",
       "5932                   i begun to feel distress for you  \n",
       "5933  i left feel annoy and angri think that i wa th...  \n",
       "5934  i were to ever get marri i d have everyth read...  \n",
       "5935  i feel reluct in appli there becaus i want to ...  \n",
       "5936  i just want to apolog to you becaus i feel lik...  \n",
       "\n",
       "[5937 rows x 4 columns]"
      ]
     },
     "execution_count": 11,
     "metadata": {},
     "output_type": "execute_result"
    }
   ],
   "source": [
    "stemmer=PorterStemmer()\n",
    "stopwords= stopwords.words('english')\n",
    "df['cleaned']=list(filter(lambda x:[i for i in re.sub(\"[^a-zA-Z]\",\" \",x).split() if i not in stopwords],df['Comment']))\n",
    "df['cleaned']=df['cleaned'].apply(lambda x: \" \".join([stemmer.stem(i) for i in x.lower().split()]))\n",
    "df"
   ]
  },
  {
   "cell_type": "markdown",
   "id": "d70e10a5",
   "metadata": {},
   "source": [
    "## Training the classification Model"
   ]
  },
  {
   "cell_type": "code",
   "execution_count": 12,
   "id": "36789f0f",
   "metadata": {},
   "outputs": [],
   "source": [
    "# Training\n",
    "from sklearn.linear_model import LogisticRegression\n",
    "lr=LogisticRegression()"
   ]
  },
  {
   "cell_type": "code",
   "execution_count": 17,
   "id": "994fb4f7",
   "metadata": {},
   "outputs": [],
   "source": [
    "vectorizer=TfidfVectorizer(stop_words='english')\n",
    "x=df['cleaned']\n",
    "y=df['Emotion']\n",
    "\n",
    "x_train,x_test,y_train,y_test=train_test_split(x,y,test_size=0.15)\n",
    "\n",
    "\n",
    "#pipeline\n",
    "pipeline=Pipeline([('vect',vectorizer),\n",
    "                    ('chi', SelectKBest(chi2, k=2000)),\n",
    "                ('clf',LogisticRegression(random_state=0))\n",
    "])\n",
    "\n",
    "model=pipeline.fit(x_train,y_train)\n"
   ]
  },
  {
   "cell_type": "code",
   "execution_count": 22,
   "id": "8822193b",
   "metadata": {},
   "outputs": [
    {
     "name": "stdout",
     "output_type": "stream",
     "text": [
      "Accuracy score 0.9191919191919192\n",
      "\n",
      "\n",
      "['joy' 'anger' 'anger' 'fear' 'joy' 'fear' 'joy' 'fear' 'anger' 'anger'\n",
      " 'joy' 'anger' 'fear' 'fear' 'anger' 'joy' 'joy' 'fear' 'fear' 'anger'\n",
      " 'anger' 'joy' 'joy' 'joy' 'anger' 'anger' 'anger' 'joy' 'joy' 'fear'\n",
      " 'joy' 'anger' 'anger' 'joy' 'joy' 'anger' 'joy' 'anger' 'anger' 'anger'\n",
      " 'joy' 'anger' 'joy' 'anger' 'joy' 'joy' 'anger' 'anger' 'anger' 'fear'\n",
      " 'joy' 'anger' 'joy' 'joy' 'anger' 'anger' 'fear' 'fear' 'anger' 'anger'\n",
      " 'joy' 'joy' 'joy' 'anger' 'anger' 'anger' 'anger' 'anger' 'anger' 'anger'\n",
      " 'anger' 'joy' 'fear' 'anger' 'anger' 'fear' 'fear' 'joy' 'fear' 'anger'\n",
      " 'anger' 'joy' 'joy' 'anger' 'joy' 'anger' 'fear' 'joy' 'joy' 'fear'\n",
      " 'anger' 'joy' 'joy' 'fear' 'joy' 'fear' 'joy' 'joy' 'fear' 'joy' 'anger'\n",
      " 'fear' 'joy' 'joy' 'anger' 'fear' 'anger' 'joy' 'anger' 'anger' 'fear'\n",
      " 'fear' 'joy' 'joy' 'anger' 'fear' 'joy' 'joy' 'anger' 'joy' 'joy' 'anger'\n",
      " 'fear' 'joy' 'anger' 'joy' 'fear' 'fear' 'fear' 'fear' 'anger' 'anger'\n",
      " 'anger' 'anger' 'fear' 'joy' 'joy' 'fear' 'joy' 'anger' 'anger' 'joy'\n",
      " 'fear' 'anger' 'anger' 'joy' 'joy' 'anger' 'anger' 'joy' 'joy' 'anger'\n",
      " 'anger' 'joy' 'joy' 'joy' 'fear' 'joy' 'fear' 'fear' 'joy' 'fear' 'fear'\n",
      " 'joy' 'anger' 'fear' 'joy' 'joy' 'joy' 'joy' 'anger' 'anger' 'fear'\n",
      " 'anger' 'joy' 'fear' 'joy' 'fear' 'joy' 'anger' 'anger' 'fear' 'joy'\n",
      " 'joy' 'fear' 'joy' 'joy' 'anger' 'joy' 'joy' 'fear' 'anger' 'joy' 'anger'\n",
      " 'anger' 'fear' 'joy' 'anger' 'joy' 'joy' 'anger' 'anger' 'fear' 'joy'\n",
      " 'fear' 'anger' 'anger' 'fear' 'fear' 'anger' 'joy' 'joy' 'joy' 'joy'\n",
      " 'fear' 'anger' 'joy' 'anger' 'joy' 'anger' 'anger' 'anger' 'joy' 'fear'\n",
      " 'anger' 'joy' 'fear' 'fear' 'joy' 'fear' 'joy' 'joy' 'joy' 'joy' 'anger'\n",
      " 'joy' 'anger' 'anger' 'fear' 'joy' 'anger' 'joy' 'anger' 'anger' 'joy'\n",
      " 'fear' 'joy' 'fear' 'joy' 'joy' 'fear' 'joy' 'fear' 'joy' 'joy' 'joy'\n",
      " 'anger' 'joy' 'anger' 'fear' 'joy' 'fear' 'fear' 'joy' 'anger' 'joy'\n",
      " 'fear' 'joy' 'joy' 'joy' 'fear' 'anger' 'joy' 'fear' 'fear' 'anger'\n",
      " 'anger' 'anger' 'anger' 'anger' 'fear' 'anger' 'fear' 'joy' 'fear'\n",
      " 'anger' 'fear' 'joy' 'joy' 'fear' 'joy' 'fear' 'anger' 'anger' 'joy'\n",
      " 'anger' 'anger' 'joy' 'anger' 'joy' 'joy' 'anger' 'anger' 'anger' 'anger'\n",
      " 'fear' 'joy' 'joy' 'anger' 'anger' 'fear' 'joy' 'fear' 'anger' 'anger'\n",
      " 'anger' 'anger' 'fear' 'joy' 'joy' 'anger' 'joy' 'fear' 'fear' 'anger'\n",
      " 'joy' 'anger' 'fear' 'anger' 'fear' 'anger' 'joy' 'anger' 'anger' 'anger'\n",
      " 'joy' 'anger' 'fear' 'joy' 'joy' 'joy' 'joy' 'anger' 'fear' 'anger'\n",
      " 'anger' 'joy' 'fear' 'joy' 'anger' 'fear' 'joy' 'joy' 'fear' 'anger'\n",
      " 'fear' 'fear' 'fear' 'anger' 'fear' 'fear' 'joy' 'anger' 'joy' 'fear'\n",
      " 'anger' 'anger' 'joy' 'anger' 'fear' 'anger' 'anger' 'fear' 'fear'\n",
      " 'anger' 'anger' 'fear' 'anger' 'joy' 'anger' 'joy' 'joy' 'joy' 'fear'\n",
      " 'fear' 'anger' 'fear' 'joy' 'joy' 'joy' 'fear' 'anger' 'joy' 'joy' 'fear'\n",
      " 'anger' 'fear' 'anger' 'joy' 'joy' 'anger' 'joy' 'joy' 'joy' 'fear' 'joy'\n",
      " 'fear' 'joy' 'anger' 'fear' 'fear' 'joy' 'joy' 'fear' 'fear' 'joy'\n",
      " 'anger' 'fear' 'anger' 'joy' 'fear' 'anger' 'anger' 'anger' 'anger'\n",
      " 'fear' 'anger' 'fear' 'fear' 'fear' 'anger' 'anger' 'anger' 'joy' 'joy'\n",
      " 'fear' 'anger' 'fear' 'joy' 'anger' 'fear' 'fear' 'joy' 'fear' 'anger'\n",
      " 'joy' 'joy' 'joy' 'fear' 'anger' 'joy' 'joy' 'joy' 'fear' 'fear' 'anger'\n",
      " 'fear' 'fear' 'fear' 'fear' 'anger' 'joy' 'fear' 'joy' 'anger' 'joy'\n",
      " 'fear' 'anger' 'fear' 'joy' 'joy' 'fear' 'joy' 'joy' 'joy' 'fear' 'joy'\n",
      " 'joy' 'fear' 'joy' 'joy' 'anger' 'fear' 'fear' 'joy' 'anger' 'fear'\n",
      " 'fear' 'anger' 'anger' 'joy' 'anger' 'fear' 'fear' 'anger' 'anger' 'joy'\n",
      " 'fear' 'joy' 'joy' 'joy' 'joy' 'fear' 'anger' 'fear' 'fear' 'fear'\n",
      " 'anger' 'fear' 'joy' 'fear' 'fear' 'joy' 'anger' 'fear' 'fear' 'joy'\n",
      " 'joy' 'joy' 'anger' 'joy' 'anger' 'anger' 'fear' 'fear' 'joy' 'fear'\n",
      " 'fear' 'fear' 'joy' 'anger' 'fear' 'anger' 'joy' 'fear' 'fear' 'fear'\n",
      " 'joy' 'anger' 'joy' 'joy' 'joy' 'anger' 'joy' 'anger' 'joy' 'fear'\n",
      " 'anger' 'joy' 'anger' 'fear' 'fear' 'fear' 'joy' 'fear' 'fear' 'joy'\n",
      " 'anger' 'joy' 'anger' 'fear' 'anger' 'joy' 'anger' 'fear' 'fear' 'fear'\n",
      " 'anger' 'joy' 'fear' 'fear' 'joy' 'anger' 'fear' 'anger' 'fear' 'joy'\n",
      " 'joy' 'joy' 'anger' 'fear' 'fear' 'joy' 'anger' 'joy' 'anger' 'anger'\n",
      " 'anger' 'anger' 'anger' 'joy' 'joy' 'fear' 'anger' 'joy' 'anger' 'joy'\n",
      " 'joy' 'fear' 'anger' 'fear' 'joy' 'fear' 'fear' 'joy' 'fear' 'joy' 'fear'\n",
      " 'anger' 'joy' 'anger' 'joy' 'anger' 'anger' 'anger' 'joy' 'joy' 'fear'\n",
      " 'anger' 'joy' 'anger' 'fear' 'joy' 'fear' 'fear' 'fear' 'fear' 'fear'\n",
      " 'joy' 'joy' 'fear' 'fear' 'fear' 'anger' 'joy' 'anger' 'fear' 'joy'\n",
      " 'fear' 'anger' 'anger' 'fear' 'fear' 'fear' 'fear' 'fear' 'fear' 'joy'\n",
      " 'fear' 'anger' 'joy' 'fear' 'fear' 'joy' 'joy' 'fear' 'joy' 'fear' 'fear'\n",
      " 'anger' 'fear' 'joy' 'fear' 'fear' 'fear' 'fear' 'anger' 'joy' 'joy'\n",
      " 'joy' 'anger' 'joy' 'fear' 'fear' 'anger' 'fear' 'joy' 'joy' 'anger'\n",
      " 'anger' 'joy' 'joy' 'joy' 'anger' 'fear' 'anger' 'joy' 'fear' 'fear'\n",
      " 'fear' 'joy' 'joy' 'joy' 'anger' 'fear' 'anger' 'fear' 'anger' 'anger'\n",
      " 'anger' 'anger' 'anger' 'fear' 'joy' 'joy' 'joy' 'joy' 'anger' 'anger'\n",
      " 'joy' 'joy' 'fear' 'joy' 'joy' 'fear' 'joy' 'joy' 'anger' 'joy' 'anger'\n",
      " 'fear' 'anger' 'fear' 'joy' 'anger' 'joy' 'fear' 'joy' 'fear' 'anger'\n",
      " 'fear' 'fear' 'fear' 'fear' 'anger' 'joy' 'fear' 'anger' 'fear' 'anger'\n",
      " 'joy' 'anger' 'anger' 'fear' 'anger' 'fear' 'joy' 'joy' 'anger' 'fear'\n",
      " 'fear' 'anger' 'anger' 'anger' 'fear' 'fear' 'anger' 'joy' 'anger'\n",
      " 'anger' 'joy' 'joy' 'anger' 'fear' 'joy' 'anger' 'joy' 'joy' 'fear'\n",
      " 'anger' 'joy' 'joy' 'fear' 'anger' 'anger' 'fear' 'anger' 'joy' 'fear'\n",
      " 'joy' 'joy' 'joy' 'fear' 'joy' 'joy' 'fear' 'fear' 'anger' 'anger' 'fear'\n",
      " 'anger' 'fear' 'anger' 'anger' 'joy' 'joy' 'joy' 'anger' 'fear' 'fear'\n",
      " 'joy' 'fear' 'joy' 'joy' 'fear' 'joy' 'joy' 'joy' 'fear' 'fear' 'anger'\n",
      " 'anger' 'fear' 'anger' 'joy' 'anger' 'fear' 'anger' 'fear' 'anger' 'joy'\n",
      " 'fear' 'joy' 'fear' 'fear' 'joy' 'fear' 'fear' 'fear' 'anger' 'fear'\n",
      " 'fear' 'joy' 'anger' 'joy' 'fear' 'joy' 'joy' 'joy' 'joy' 'joy' 'anger'\n",
      " 'anger' 'joy' 'fear' 'joy' 'anger' 'anger' 'anger' 'fear' 'anger' 'fear'\n",
      " 'joy' 'fear' 'fear' 'fear' 'anger' 'joy' 'fear' 'fear' 'joy' 'joy'\n",
      " 'anger' 'joy' 'anger' 'fear' 'anger' 'fear' 'anger' 'fear' 'joy' 'fear'\n",
      " 'joy' 'anger' 'anger' 'anger' 'fear' 'joy' 'joy' 'joy' 'fear' 'fear'\n",
      " 'joy' 'joy' 'joy' 'joy' 'fear' 'fear' 'joy' 'fear' 'anger']\n"
     ]
    }
   ],
   "source": [
    "#accuracy\n",
    "from sklearn.metrics import accuracy_score\n",
    "predict_emotion=model.predict(x_test)\n",
    "print('Accuracy score', accuracy_score(y_test,predict_emotion))\n",
    "print('\\n')\n",
    "print(predict_emotion)"
   ]
  },
  {
   "cell_type": "code",
   "execution_count": 18,
   "id": "02bbcc22",
   "metadata": {},
   "outputs": [
    {
     "name": "stdout",
     "output_type": "stream",
     "text": [
      "Enter a type of text: Just love this thing\n",
      "predicted class=  joy\n"
     ]
    }
   ],
   "source": [
    "#input\n",
    "\n",
    "text=input('Enter a type of text: ')\n",
    "pred={'predicted text':[text]}\n",
    "dataframe=pd.DataFrame(pred)\n",
    "prediction=model.predict(dataframe['predicted text'])\n",
    "print('predicted class= ',prediction[0])"
   ]
  },
  {
   "cell_type": "markdown",
   "id": "3aecfe34",
   "metadata": {},
   "source": [
    "## Confusion Matrix for accessing Performance of the model\n"
   ]
  },
  {
   "cell_type": "code",
   "execution_count": 33,
   "id": "fb78099b",
   "metadata": {},
   "outputs": [
    {
     "name": "stdout",
     "output_type": "stream",
     "text": [
      "              precision    recall  f1-score   support\n",
      "\n",
      "       anger       0.91      0.91      0.91       285\n",
      "        fear       0.90      0.94      0.92       283\n",
      "         joy       0.95      0.91      0.93       323\n",
      "\n",
      "    accuracy                           0.92       891\n",
      "   macro avg       0.92      0.92      0.92       891\n",
      "weighted avg       0.92      0.92      0.92       891\n",
      "\n",
      "[[258  17  10]\n",
      " [  9 267   7]\n",
      " [ 15  14 294]]\n"
     ]
    }
   ],
   "source": [
    "#Confusion Matrix\n",
    "ytest=np.array(y_test)\n",
    "print(classification_report(model.predict(x_test),ytest))\n",
    "print(confusion_matrix(model.predict(x_test),y_test))"
   ]
  },
  {
   "cell_type": "code",
   "execution_count": 34,
   "id": "2f2b00c3",
   "metadata": {},
   "outputs": [
    {
     "data": {
      "image/png": "[encoded data removed]",
      "text/plain": [
       "<Figure size 800x800 with 2 Axes>"
      ]
     },
     "metadata": {},
     "output_type": "display_data"
    }
   ],
   "source": [
    "import matplotlib.pyplot as plt\n",
    "from sklearn.metrics import ConfusionMatrixDisplay\n",
    "cm = confusion_matrix(model.predict(x_test),ytest)\n",
    "\n",
    "fig, ax = plt.subplots(figsize=(8,8), dpi=100)\n",
    "class_names=['anger','fear','joy']\n",
    "\n",
    "display = ConfusionMatrixDisplay(cm, display_labels=class_names)\n",
    "\n",
    "ax.set(title='Confusion Matrix for News Detection Model')\n",
    "\n",
    "\n",
    "display.plot(ax=ax);"
   ]
  },
  {
   "cell_type": "code",
   "execution_count": null,
   "id": "fed5d344",
   "metadata": {},
   "outputs": [],
   "source": []
  }
 ],
 "metadata": {
  "kernelspec": {
   "display_name": "Python 3 (ipykernel)",
   "language": "python",
   "name": "python3"
  },
  "language_info": {
   "codemirror_mode": {
    "name": "ipython",
    "version": 3
   },
   "file_extension": ".py",
   "mimetype": "text/x-python",
   "name": "python",
   "nbconvert_exporter": "python",
   "pygments_lexer": "ipython3",
   "version": "3.11.3"
  }
 },
 "nbformat": 4,
 "nbformat_minor": 5
}
